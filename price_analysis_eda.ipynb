{
 "cells": [
  {
   "cell_type": "markdown",
   "id": "7285d4d2",
   "metadata": {},
   "source": [
    "# Airbnb Price EDA\n",
    "This notebook performs exploratory data analysis on Airbnb listing data to understand pricing patterns based on location, room type, and other features."
   ]
  },
  {
   "cell_type": "code",
   "execution_count": null,
   "id": "e387c108",
   "metadata": {},
   "outputs": [],
   "source": [
    "import pandas as pd\n",
    "import seaborn as sns\n",
    "import matplotlib.pyplot as plt\n",
    "\n",
    "# Load dataset\n",
    "df = pd.read_csv('../data/airbnb_cleaned_data.csv')\n",
    "\n",
    "# Display first few rows\n",
    "df.head()"
   ]
  },
  {
   "cell_type": "code",
   "execution_count": null,
   "id": "81118884",
   "metadata": {},
   "outputs": [],
   "source": [
    "# Basic EDA\n",
    "print(\"\\nMissing Values:\\n\", df.isnull().sum())\n",
    "print(\"\\nData Types:\\n\", df.dtypes)"
   ]
  },
  {
   "cell_type": "code",
   "execution_count": null,
   "id": "adf62192",
   "metadata": {},
   "outputs": [],
   "source": [
    "# Price distribution\n",
    "plt.figure(figsize=(8, 4))\n",
    "sns.histplot(df['price'], bins=50, kde=True)\n",
    "plt.title(\"Price Distribution\")\n",
    "plt.xlabel(\"Price ($)\")\n",
    "plt.savefig(\"../images/price_distribution.png\")\n",
    "plt.show()"
   ]
  },
  {
   "cell_type": "code",
   "execution_count": null,
   "id": "91998838",
   "metadata": {},
   "outputs": [],
   "source": [
    "# Boxplot of price by room type\n",
    "plt.figure(figsize=(8, 5))\n",
    "sns.boxplot(data=df, x='room_type', y='price')\n",
    "plt.title(\"Price by Room Type\")\n",
    "plt.show()"
   ]
  },
  {
   "cell_type": "code",
   "execution_count": null,
   "id": "b57062f3",
   "metadata": {},
   "outputs": [],
   "source": [
    "# Correlation heatmap\n",
    "plt.figure(figsize=(10, 6))\n",
    "sns.heatmap(df.corr(numeric_only=True), annot=True, cmap='coolwarm')\n",
    "plt.title(\"Correlation Matrix\")\n",
    "plt.show()"
   ]
  },
  {
   "cell_type": "code",
   "execution_count": null,
   "id": "8739ca0e",
   "metadata": {},
   "outputs": [],
   "source": [
    "# Average price by city or neighbourhood\n",
    "df.groupby('city')['price'].mean().sort_values(ascending=False).head(10)"
   ]
  },
  {
   "cell_type": "code",
   "execution_count": null,
   "id": "f2b33c64",
   "metadata": {},
   "outputs": [],
   "source": [
    "# Save cleaned dataset for modeling\n",
    "df.to_csv('../data/airbnb_cleaned_data.csv', index=False)"
   ]
  }
 ],
 "metadata": {},
 "nbformat": 4,
 "nbformat_minor": 5
}
