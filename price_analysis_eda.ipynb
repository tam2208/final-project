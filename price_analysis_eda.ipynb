import pandas as pd
import seaborn as sns
import matplotlib.pyplot as plt

# Load dataset
df = pd.read_csv('../data/airbnb_cleaned_data.csv')

# Display first few rows
df.head()

# Basic EDA
print("\nMissing Values:\n", df.isnull().sum())
print("\nData Types:\n", df.dtypes)

# Price distribution
plt.figure(figsize=(8, 4))
sns.histplot(df['price'], bins=50, kde=True)
plt.title("Price Distribution")
plt.xlabel("Price ($)")
plt.savefig("../images/price_distribution.png")
plt.show()

# Boxplot of price by room type
plt.figure(figsize=(8, 5))
sns.boxplot(data=df, x='room_type', y='price')
plt.title("Price by Room Type")
plt.show()

# Correlation heatmap
plt.figure(figsize=(10, 6))
sns.heatmap(df.corr(numeric_only=True), annot=True, cmap='coolwarm')
plt.title("Correlation Matrix")
plt.show()

# Average price by city or neighbourhood
df.groupby('city')['price'].mean().sort_values(ascending=False).head(10)

# Save cleaned dataset for modeling
df.to_csv('../data/airbnb_cleaned_data.csv', index=False)  # in case any changes made
